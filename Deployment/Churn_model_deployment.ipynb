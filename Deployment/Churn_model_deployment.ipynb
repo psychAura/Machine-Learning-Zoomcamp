{
 "cells": [
  {
   "cell_type": "markdown",
   "id": "5ed3af55-c699-476f-992f-2f41c3dc80a8",
   "metadata": {},
   "source": [
    "## Churn Prediction Model Deployment"
   ]
  },
  {
   "cell_type": "code",
   "execution_count": 9,
   "id": "5a8c7979-3566-4193-b391-91c0019a6d9b",
   "metadata": {},
   "outputs": [],
   "source": [
    "#load libraries and packages"
   ]
  },
  {
   "cell_type": "code",
   "execution_count": 10,
   "id": "ca4ee82b-c12b-4131-afad-a1971e820374",
   "metadata": {},
   "outputs": [],
   "source": [
    "import numpy as np\n",
    "import pandas as pd\n",
    "import matplotlib.pyplot as plt\n",
    "\n",
    "from sklearn.model_selection import train_test_split\n",
    "from sklearn.feature_extraction import DictVectorizer\n",
    "from sklearn.linear_model import LogisticRegression\n",
    "from sklearn.metrics import roc_curve\n",
    "from sklearn.metrics import roc_auc_score\n",
    "from sklearn.model_selection import KFold"
   ]
  },
  {
   "cell_type": "code",
   "execution_count": 11,
   "id": "e66a2b99-8bfe-4458-8d4c-de73abd25843",
   "metadata": {},
   "outputs": [],
   "source": [
    "df = pd.read_csv(r\"C:\\Users\\H P\\Desktop\\Machine Learning Zoomcamp\\Logistic Regression\\Telco-Customer-Churn.csv\") #load dataset from copy downloaded from kaggle\n",
    "\n",
    "###formats column names\n",
    "df.columns = df.columns.str.lower().str.replace(' ', '_')\n",
    "\n",
    "###formats all index by removing spaces and making index lowercase. ie formats rows\n",
    "categorical_columns = list(df.dtypes[df.dtypes == 'object'].index)\n",
    "\n",
    "for c in categorical_columns:\n",
    "    df[c] = df[c].str.lower().str.replace(' ', '_')\n",
    "\n",
    "df.totalcharges = pd.to_numeric(df.totalcharges, errors = 'coerce')  #changes object dtypes to int and second input ignores nulls, and  other dtypes included\n",
    "\n",
    "df.totalcharges = df.totalcharges.fillna(0)\n",
    "\n",
    "df.churn = (df.churn == 'yes').astype(int)  #assigns 0 and 1 to yes and no"
   ]
  },
  {
   "cell_type": "code",
   "execution_count": 12,
   "id": "b0010053-c508-4141-9d9b-21c6374b479e",
   "metadata": {},
   "outputs": [],
   "source": [
    "df_full_train, df_test = train_test_split(df, test_size = 0.2, random_state = 1) ##splits test to 20%"
   ]
  },
  {
   "cell_type": "code",
   "execution_count": 13,
   "id": "116f50b5-d9a5-4f5e-96ad-2a73822e78bb",
   "metadata": {},
   "outputs": [],
   "source": [
    "numerical = ['tenure','monthlycharges', 'totalcharges' ]\n",
    "\n",
    "categorical = ['gender', 'seniorcitizen', 'partner', 'dependents',\n",
    "     'phoneservice', 'multiplelines', 'internetservice',\n",
    "       'onlinesecurity', 'onlinebackup', 'deviceprotection', 'techsupport',\n",
    "       'streamingtv', 'streamingmovies', 'contract', 'paperlessbilling',\n",
    "       'paymentmethod']"
   ]
  },
  {
   "cell_type": "code",
   "execution_count": 14,
   "id": "4706e512-4220-41fb-b30d-d04e3cba0fdf",
   "metadata": {},
   "outputs": [],
   "source": [
    "def train(df_train, y_train, C=1.0):\n",
    "    dicts = df_train[categorical + numerical].to_dict(orient = 'records')\n",
    "\n",
    "    dv = DictVectorizer(sparse = False)\n",
    "    X_train = dv.fit_transform(dicts)\n",
    "\n",
    "    model = LogisticRegression(solver='lbfgs', max_iter=10000, C=C)\n",
    "    model.fit(X_train, y_train)\n",
    "\n",
    "    return dv, model"
   ]
  },
  {
   "cell_type": "code",
   "execution_count": 15,
   "id": "d40df014-7396-4037-b6ec-0f7bf7847d52",
   "metadata": {},
   "outputs": [],
   "source": [
    "def predict(df, dv, model):\n",
    "    dicts = df[categorical + numerical].to_dict(orient = 'records')\n",
    "    \n",
    "    X = dv.transform(dicts)\n",
    "    y_pred = model.predict_proba(X)[:,1]\n",
    "\n",
    "    return y_pred"
   ]
  },
  {
   "cell_type": "code",
   "execution_count": 16,
   "id": "c11e46fe-50b6-4d97-b8fd-49011bf50ec4",
   "metadata": {},
   "outputs": [],
   "source": [
    "C = 1.0\n",
    "n_splits = 5"
   ]
  },
  {
   "cell_type": "code",
   "execution_count": 17,
   "id": "fb8d1774-f127-4bbc-8500-ebd812517c9f",
   "metadata": {},
   "outputs": [
    {
     "name": "stdout",
     "output_type": "stream",
     "text": [
      "C=1.0 0.842 +- 0.007\n"
     ]
    }
   ],
   "source": [
    "kfold = KFold(n_splits = n_splits, shuffle=True, random_state = 1)\n",
    "\n",
    "#train_idx, val_idx = next(kfold.split(df_full_train)) #divides the dataset into 10 and trains 9 parts and validates 1 parts and iterates 10 times.\n",
    "#returns the index for the trained parts and validated parts)\n",
    "scores = []\n",
    "\n",
    "# Compute formula to calculate AUC for each of the 5 groups\n",
    "for train_idx, val_idx in (kfold.split(df_full_train)):\n",
    "    df_train = df_full_train.iloc[train_idx]\n",
    "    df_val = df_full_train.iloc[val_idx]\n",
    "\n",
    "    y_train = df_train.churn.values\n",
    "    y_val = df_val.churn.values\n",
    "\n",
    "    #uses func created for train and predict to train and predict each part\n",
    "    dv, model = train(df_train, y_train, C=C ) #takes each part of the train and does DV, and fit the model\n",
    "    y_pred = predict(df_val, dv, model) #predicts on val for each model \n",
    "\n",
    "    auc = roc_auc_score(y_val, y_pred) #find auc score for each iteration\n",
    "    scores.append(auc) #stores all in the scores array above\n",
    "\n",
    "print('C=%s %.3f +- %.3f' % (C, np.mean(scores), np.std(scores)))"
   ]
  },
  {
   "cell_type": "code",
   "execution_count": 18,
   "id": "e2b80ab9-95f9-447f-984a-f0113b3fc551",
   "metadata": {},
   "outputs": [
    {
     "data": {
      "text/plain": [
       "[0.8444238603983013,\n",
       " 0.8449853496225664,\n",
       " 0.8335300020068233,\n",
       " 0.8347808882778027,\n",
       " 0.8517657117755952]"
      ]
     },
     "execution_count": 18,
     "metadata": {},
     "output_type": "execute_result"
    }
   ],
   "source": [
    "scores"
   ]
  },
  {
   "cell_type": "code",
   "execution_count": 19,
   "id": "83dabad8-730a-4654-b5b6-7bd5fbd3d134",
   "metadata": {},
   "outputs": [
    {
     "data": {
      "text/plain": [
       "0.8583409167235421"
      ]
     },
     "execution_count": 19,
     "metadata": {},
     "output_type": "execute_result"
    }
   ],
   "source": [
    "#trains full dataset and test on test dataset\n",
    "\n",
    "dv, model = train(df_full_train, df_full_train.churn.values, C=C )  \n",
    "y_pred = predict(df_test, dv, model) #predicts on val for each model \n",
    "\n",
    "y_test = df_test.churn.values\n",
    "auc = roc_auc_score(y_test, y_pred)\n",
    "auc"
   ]
  },
  {
   "cell_type": "code",
   "execution_count": 20,
   "id": "cac6295c-8fc6-464e-8133-41f4701c50e4",
   "metadata": {},
   "outputs": [],
   "source": [
    "#Save the Model"
   ]
  },
  {
   "cell_type": "code",
   "execution_count": 21,
   "id": "88157c9b-5741-485f-8892-32362ab9ca69",
   "metadata": {},
   "outputs": [
    {
     "data": {
      "text/plain": [
       "'model_C=1.0.bin'"
      ]
     },
     "execution_count": 21,
     "metadata": {},
     "output_type": "execute_result"
    }
   ],
   "source": [
    "import pickle\n",
    "\n",
    "output_file = f'model_C={C}.bin' #create file name to be exported\n",
    "output_file"
   ]
  },
  {
   "cell_type": "code",
   "execution_count": 22,
   "id": "64da8145-5f95-4efd-9f72-4699b28d4571",
   "metadata": {},
   "outputs": [],
   "source": [
    "f_out = open(output_file, 'wb') # open file, wb =write binary file , not texts but bytes file\n",
    "pickle.dump((dv,model), f_out) #saves and exports file\n",
    "f_out.close() #closes file\n",
    "\n",
    "#alternate way\n",
    "with open(output_file, 'wb') as f_out:\n",
    "    pickle.dump((dv,model), f_out)"
   ]
  },
  {
   "cell_type": "code",
   "execution_count": 23,
   "id": "781a4047-6b0f-4302-b84d-49d101514c5a",
   "metadata": {},
   "outputs": [],
   "source": [
    "#load model"
   ]
  },
  {
   "cell_type": "code",
   "execution_count": 24,
   "id": "ab4a841e-e3a6-4745-ac2c-12ef17c8c7d6",
   "metadata": {},
   "outputs": [],
   "source": [
    "model_file = 'model_C=1.0.bin'\n",
    "import pickle\n",
    "\n",
    "with open(model_file, 'rb') as f_in: #rb=read bin, \n",
    "    dv, model = pickle.load(f_in)"
   ]
  },
  {
   "cell_type": "code",
   "execution_count": 25,
   "id": "459181a3-a6b6-46ae-a3a8-a41cabc43bb7",
   "metadata": {},
   "outputs": [
    {
     "data": {
      "text/plain": [
       "(DictVectorizer(sparse=False), LogisticRegression(max_iter=10000))"
      ]
     },
     "execution_count": 25,
     "metadata": {},
     "output_type": "execute_result"
    }
   ],
   "source": [
    "dv, model  #restarted kernel and loads our dv and model to test it. prints it below"
   ]
  },
  {
   "cell_type": "code",
   "execution_count": 26,
   "id": "596d091b-f3b2-482d-afba-0b94767631da",
   "metadata": {},
   "outputs": [],
   "source": [
    "#get a random customer\n",
    "customer = {\n",
    "    'gender': 'female',\n",
    "    'seniorcitizen': 0,\n",
    "    'partner': 'yes',\n",
    "    'dependents': 'no',\n",
    "    'phoneservice': 'no',\n",
    "    'multiplelines': 'no_phone_service',\n",
    "    'internetservice': 'dsl',\n",
    "    'onlinesecurity': 'no',\n",
    "    'onlinebackup': 'yes',\n",
    "    'deviceprotection': 'no',\n",
    "    'techsupport': 'no',\n",
    "    'streamingtv': 'no',\n",
    "    'streamingmovies': 'no',\n",
    "    'contract': 'month-to-month',\n",
    "    'paperlessbilling': 'yes',\n",
    "    'paymentmethod': 'electronic_check',\n",
    "    'tenure': 1,\n",
    "    'monthlycharges': 29.85,\n",
    "    'totalcharges': 29.85\n",
    "}"
   ]
  },
  {
   "cell_type": "code",
   "execution_count": 27,
   "id": "0b9e9f95-9670-4aad-aec4-77b4775a588d",
   "metadata": {},
   "outputs": [],
   "source": [
    "X = dv.transform([customer])"
   ]
  },
  {
   "cell_type": "code",
   "execution_count": 31,
   "id": "fa4414a7-5e01-4c74-a51a-07605b5b947c",
   "metadata": {},
   "outputs": [
    {
     "data": {
      "text/plain": [
       "0.6279028751327309"
      ]
     },
     "execution_count": 31,
     "metadata": {},
     "output_type": "execute_result"
    }
   ],
   "source": [
    "model.predict_proba(X)[0,1]"
   ]
  },
  {
   "cell_type": "code",
   "execution_count": null,
   "id": "8b91aec8-a7fe-4e67-9b6b-6617259e0aaf",
   "metadata": {},
   "outputs": [],
   "source": []
  },
  {
   "cell_type": "code",
   "execution_count": null,
   "id": "228d4689-7eb0-4d64-a7f0-d8f9b6c9e359",
   "metadata": {},
   "outputs": [],
   "source": []
  }
 ],
 "metadata": {
  "kernelspec": {
   "display_name": "Python 3 (ipykernel)",
   "language": "python",
   "name": "python3"
  },
  "language_info": {
   "codemirror_mode": {
    "name": "ipython",
    "version": 3
   },
   "file_extension": ".py",
   "mimetype": "text/x-python",
   "name": "python",
   "nbconvert_exporter": "python",
   "pygments_lexer": "ipython3",
   "version": "3.12.4"
  }
 },
 "nbformat": 4,
 "nbformat_minor": 5
}
