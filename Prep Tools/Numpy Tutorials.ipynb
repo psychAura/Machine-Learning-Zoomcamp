{
 "cells": [
  {
   "cell_type": "markdown",
   "id": "715e3c75-c963-4640-9577-16fbff37d457",
   "metadata": {},
   "source": [
    "Numpy Tutorials"
   ]
  },
  {
   "cell_type": "code",
   "execution_count": 5,
   "id": "0f93b94a-6456-433e-9cec-9b0f294fddd1",
   "metadata": {},
   "outputs": [],
   "source": [
    "import numpy as np"
   ]
  },
  {
   "cell_type": "markdown",
   "id": "cdf79178-0d89-4ebc-94cf-01a75ea1f80a",
   "metadata": {},
   "source": [
    "Creating arrays"
   ]
  },
  {
   "cell_type": "code",
   "execution_count": 7,
   "id": "a01aea75-750a-4dab-aba0-9483d835f4bd",
   "metadata": {},
   "outputs": [
    {
     "data": {
      "text/plain": [
       "array([0., 0., 0., 0., 0.])"
      ]
     },
     "execution_count": 7,
     "metadata": {},
     "output_type": "execute_result"
    }
   ],
   "source": [
    "np.zeros(5) #creates an array of 5 zeros. #np.ones(10) creates an array of 10 one."
   ]
  },
  {
   "cell_type": "code",
   "execution_count": 8,
   "id": "26d93c3a-7021-4fea-b23a-7b0282807bd2",
   "metadata": {},
   "outputs": [
    {
     "data": {
      "text/plain": [
       "array([2.5, 2.5, 2.5, 2.5, 2.5, 2.5, 2.5, 2.5, 2.5, 2.5])"
      ]
     },
     "execution_count": 8,
     "metadata": {},
     "output_type": "execute_result"
    }
   ],
   "source": [
    "np.full(10, 2.5) #creates an array first arg is number of times, sec arg is value"
   ]
  },
  {
   "cell_type": "code",
   "execution_count": 10,
   "id": "11a0151b-2211-4150-82f9-50075a8583c7",
   "metadata": {},
   "outputs": [],
   "source": [
    "a = np.array([1, 4, 6, 7,8 ]) #creates array of choice"
   ]
  },
  {
   "cell_type": "code",
   "execution_count": 11,
   "id": "e70110ac-1d1a-4b85-9f5f-81a96bcb30f2",
   "metadata": {},
   "outputs": [
    {
     "data": {
      "text/plain": [
       "array([1, 4, 6, 7, 8])"
      ]
     },
     "execution_count": 11,
     "metadata": {},
     "output_type": "execute_result"
    }
   ],
   "source": [
    "a"
   ]
  },
  {
   "cell_type": "code",
   "execution_count": 12,
   "id": "731e0e87-1275-49b2-aef2-3637b25ab133",
   "metadata": {},
   "outputs": [
    {
     "data": {
      "text/plain": [
       "array([ 2.,  4.,  6.,  8., 10., 12., 14., 16., 18., 20.])"
      ]
     },
     "execution_count": 12,
     "metadata": {},
     "output_type": "execute_result"
    }
   ],
   "source": [
    "np.linspace(2, 20, 10) #creates an array between 2 and 20 with 10 values"
   ]
  },
  {
   "cell_type": "markdown",
   "id": "96529cfe-0883-45ef-b319-83f1d32364c5",
   "metadata": {},
   "source": [
    "Multi-Dimensional Arrays"
   ]
  },
  {
   "cell_type": "code",
   "execution_count": 13,
   "id": "0439c7c5-e4f2-481e-b795-f56f3c39344f",
   "metadata": {},
   "outputs": [
    {
     "data": {
      "text/plain": [
       "array([[0., 0.],\n",
       "       [0., 0.],\n",
       "       [0., 0.],\n",
       "       [0., 0.],\n",
       "       [0., 0.]])"
      ]
     },
     "execution_count": 13,
     "metadata": {},
     "output_type": "execute_result"
    }
   ],
   "source": [
    "np.zeros((5, 2)) #creates an array of 0 with 5 rows and 2 columns"
   ]
  },
  {
   "cell_type": "code",
   "execution_count": 15,
   "id": "e9c46604-fec3-49ce-a13a-726361878bb2",
   "metadata": {},
   "outputs": [
    {
     "data": {
      "text/plain": [
       "array([[1, 2, 3],\n",
       "       [4, 5, 6],\n",
       "       [7, 8, 9]])"
      ]
     },
     "execution_count": 15,
     "metadata": {},
     "output_type": "execute_result"
    }
   ],
   "source": [
    "n = np.array([[1,2,3],\n",
    "          [4,5,6],\n",
    "          [7,8,9]\n",
    "         ])\n",
    "n"
   ]
  },
  {
   "cell_type": "code",
   "execution_count": 21,
   "id": "fcbed277-44b3-44c9-9d61-05b27bc65a17",
   "metadata": {},
   "outputs": [
    {
     "data": {
      "text/plain": [
       "array([[1, 2, 3],\n",
       "       [4, 5, 6],\n",
       "       [7, 8, 1]])"
      ]
     },
     "execution_count": 21,
     "metadata": {},
     "output_type": "execute_result"
    }
   ],
   "source": [
    "#n[1,2] #points to 2nd row and 3rd column ,starts counting from 0\n",
    "n[2,2] = 1 # changes value of 3rd row, 3rd cloumn to 1\n",
    "n"
   ]
  },
  {
   "cell_type": "code",
   "execution_count": null,
   "id": "89fccb99-0f18-4d79-bcc1-b0cd15e87fd5",
   "metadata": {},
   "outputs": [],
   "source": [
    "#n[1]  gives only 2nd row\n",
    "n[1] = [3, 5, 6] assigns "
   ]
  }
 ],
 "metadata": {
  "kernelspec": {
   "display_name": "Python 3 (ipykernel)",
   "language": "python",
   "name": "python3"
  },
  "language_info": {
   "codemirror_mode": {
    "name": "ipython",
    "version": 3
   },
   "file_extension": ".py",
   "mimetype": "text/x-python",
   "name": "python",
   "nbconvert_exporter": "python",
   "pygments_lexer": "ipython3",
   "version": "3.12.4"
  }
 },
 "nbformat": 4,
 "nbformat_minor": 5
}
