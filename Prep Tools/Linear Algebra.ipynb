{
 "cells": [
  {
   "cell_type": "code",
   "execution_count": 1,
   "id": "96e4bb17-847b-4802-908f-f878b117745e",
   "metadata": {},
   "outputs": [],
   "source": [
    "import numpy as np"
   ]
  },
  {
   "cell_type": "code",
   "execution_count": 6,
   "id": "c3e4b097-dd54-43fc-925d-2ad0ccbbc576",
   "metadata": {},
   "outputs": [],
   "source": [
    "u = np.array([2,4,5,6])\n",
    "v = np.array([1,0,0,2])"
   ]
  },
  {
   "cell_type": "code",
   "execution_count": 8,
   "id": "f7f7dc12-7f11-4e6e-b14e-a0d2edfcc61e",
   "metadata": {},
   "outputs": [
    {
     "data": {
      "text/plain": [
       "array([2, 4, 5, 6])"
      ]
     },
     "execution_count": 8,
     "metadata": {},
     "output_type": "execute_result"
    }
   ],
   "source": [
    "u"
   ]
  },
  {
   "cell_type": "code",
   "execution_count": 9,
   "id": "37297b42-b760-4fde-a4a6-7f6ff3242260",
   "metadata": {},
   "outputs": [
    {
     "data": {
      "text/plain": [
       "array([1, 0, 0, 2])"
      ]
     },
     "execution_count": 9,
     "metadata": {},
     "output_type": "execute_result"
    }
   ],
   "source": [
    "v"
   ]
  },
  {
   "cell_type": "markdown",
   "id": "93265087-bb01-42d2-ac98-1bd06165c3b2",
   "metadata": {},
   "source": [
    "Vector-Vector Multiplication"
   ]
  },
  {
   "cell_type": "code",
   "execution_count": 20,
   "id": "e1e5994a-7dcf-4e30-960c-c54e23b7acdf",
   "metadata": {},
   "outputs": [
    {
     "data": {
      "text/plain": [
       "14.0"
      ]
     },
     "execution_count": 20,
     "metadata": {},
     "output_type": "execute_result"
    }
   ],
   "source": [
    "def vector_vector_multiplication(u,v):\n",
    "    assert u.shape[0]  == v.shape[0]  #ensures shape of both vectors are equal\n",
    "    n = u.shape[0]\n",
    "    results = 0.0\n",
    "\n",
    "    for i in range(n):\n",
    "        results = results + u[i] * v[i]\n",
    "\n",
    "    return results\n",
    "\n",
    "#this is mathematical representation of formula in code\n",
    "vector_vector_multiplication(u,v)"
   ]
  },
  {
   "cell_type": "code",
   "execution_count": 21,
   "id": "19f4bf3c-3b55-4336-826c-6f7953889d12",
   "metadata": {},
   "outputs": [
    {
     "data": {
      "text/plain": [
       "14"
      ]
     },
     "execution_count": 21,
     "metadata": {},
     "output_type": "execute_result"
    }
   ],
   "source": [
    "#numpy formula for v-v multiplaction\n",
    "u.dot(v)"
   ]
  },
  {
   "cell_type": "markdown",
   "id": "becc7ec0-1ea5-4e04-be24-977576c5b3a4",
   "metadata": {},
   "source": [
    "Matrix-Vector Multiplication"
   ]
  },
  {
   "cell_type": "code",
   "execution_count": 22,
   "id": "908dd76d-d5a5-4666-92fb-68dc90772d08",
   "metadata": {},
   "outputs": [],
   "source": [
    "U = np.array([\n",
    "    [2,4,5,6],\n",
    "    [1,2,1,2],\n",
    "    [3,1,2,1]\n",
    "])"
   ]
  },
  {
   "cell_type": "code",
   "execution_count": 28,
   "id": "7299afd1-70a2-4f30-9d60-5b14d723baa5",
   "metadata": {},
   "outputs": [
    {
     "data": {
      "text/plain": [
       "array([14.,  5.,  5.])"
      ]
     },
     "execution_count": 28,
     "metadata": {},
     "output_type": "execute_result"
    }
   ],
   "source": [
    "def matrix_vector_multiplication(U,v):\n",
    "    assert U.shape[1] == v.shape[0]\n",
    "    num_rows = U.shape[0]\n",
    "    results = np.zeros(num_rows)\n",
    "\n",
    "    for i in range(num_rows):\n",
    "        results[i] = vector_vector_multiplication(U[i], v)\n",
    "    return results\n",
    "    \n",
    "matrix_vector_multiplication(U,v)\n",
    "\n",
    "#python code for mathematical formula"
   ]
  },
  {
   "cell_type": "code",
   "execution_count": 29,
   "id": "29980862-3bc1-43af-9844-1f79e25d89da",
   "metadata": {},
   "outputs": [
    {
     "data": {
      "text/plain": [
       "array([14,  5,  5])"
      ]
     },
     "execution_count": 29,
     "metadata": {},
     "output_type": "execute_result"
    }
   ],
   "source": [
    "#numy code for maths formula\n",
    "U.dot(v)"
   ]
  },
  {
   "cell_type": "markdown",
   "id": "e77522c2-3204-45ac-9d41-9eac6b6065e4",
   "metadata": {},
   "source": [
    "Matrix-Matrix Multiplication"
   ]
  },
  {
   "cell_type": "code",
   "execution_count": 32,
   "id": "51d82a5a-ef5e-440e-a0a9-2fbcdf5d8a51",
   "metadata": {},
   "outputs": [],
   "source": [
    "V = np.array([\n",
    "    [1 , 1, 2],\n",
    "    [0, 0.5, 1],\n",
    "    [0 ,2 , 1],\n",
    "    [2, 1 ,0]\n",
    "])"
   ]
  },
  {
   "cell_type": "code",
   "execution_count": 33,
   "id": "2b7a4a0e-d6cd-41ba-a96b-b09b90749103",
   "metadata": {},
   "outputs": [
    {
     "data": {
      "text/plain": [
       "array([[14. , 20. , 13. ],\n",
       "       [ 5. ,  6. ,  5. ],\n",
       "       [ 5. ,  8.5,  9. ]])"
      ]
     },
     "execution_count": 33,
     "metadata": {},
     "output_type": "execute_result"
    }
   ],
   "source": [
    "U.dot(V)"
   ]
  },
  {
   "cell_type": "code",
   "execution_count": 34,
   "id": "d490667e-b67d-469b-a82c-5e46ca3aba06",
   "metadata": {
    "scrolled": true
   },
   "outputs": [
    {
     "data": {
      "text/plain": [
       "array([[14. , 20. , 13. ],\n",
       "       [ 5. ,  6. ,  5. ],\n",
       "       [ 5. ,  8.5,  9. ]])"
      ]
     },
     "execution_count": 34,
     "metadata": {},
     "output_type": "execute_result"
    }
   ],
   "source": [
    "def matrix_matrix_multiplication(U,V):\n",
    "    assert U.shape[0] == V.shape[1]\n",
    "    num_rows = U.shape[0]\n",
    "    num_columns =V.shape[1]\n",
    "    results = np.zeros((num_rows, num_columns))\n",
    "\n",
    "    for i in range(num_columns):\n",
    "        vi = V[:, i]\n",
    "        Uvi = matrix_vector_multiplication(U, vi)\n",
    "        results[:, i] = Uvi\n",
    "    return results\n",
    "    \n",
    "matrix_matrix_multiplication(U,V)\n",
    "\n",
    "#python code for mathematical formula"
   ]
  },
  {
   "cell_type": "code",
   "execution_count": null,
   "id": "e97319cc-aacc-4671-aaa2-be7f3301edfa",
   "metadata": {},
   "outputs": [],
   "source": []
  }
 ],
 "metadata": {
  "kernelspec": {
   "display_name": "Python 3 (ipykernel)",
   "language": "python",
   "name": "python3"
  },
  "language_info": {
   "codemirror_mode": {
    "name": "ipython",
    "version": 3
   },
   "file_extension": ".py",
   "mimetype": "text/x-python",
   "name": "python",
   "nbconvert_exporter": "python",
   "pygments_lexer": "ipython3",
   "version": "3.12.4"
  }
 },
 "nbformat": 4,
 "nbformat_minor": 5
}
